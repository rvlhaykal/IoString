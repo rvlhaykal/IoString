{
 "cells": [
  {
   "cell_type": "markdown",
   "id": "d0a890de-b164-4d69-927b-f3163140cd16",
   "metadata": {},
   "source": [
    "<h1>Buatlah biodata sederhana dengan menggunakan fungsi input(), dan output variable dengan fungsi format().</h1>"
   ]
  },
  {
   "cell_type": "code",
   "execution_count": 1,
   "id": "c077275d-0133-4cfa-9c18-1d62775a7aa7",
   "metadata": {},
   "outputs": [
    {
     "name": "stdin",
     "output_type": "stream",
     "text": [
      "Isikan Nama Lengkap : Reval Mizar Haykal\n",
      "Isikan Tempat Tanggal Lahir : SUKABUMI 22 April 2005\n",
      "Isikan Jenis Kelamin : Laki-laki\n",
      "Isikan Alamat : Kp.Pasir Sireum Rt/03 Rw/01, Karang Tengah, Cibadak , Sukabumi\n",
      "Isikan No Telepon : 0859159936129\n",
      "Isikan Email : rvlhaykal@gmail.com\n",
      "Isikan Status : Belum Menikah\n"
     ]
    },
    {
     "name": "stdout",
     "output_type": "stream",
     "text": [
      "\n",
      " --- Biodata Diri ---\n",
      "Nama Lengkap : Reval Mizar Haykal\n",
      "Tempat Tanggal Lahir : SUKABUMI 22 April 2005\n",
      "Jenis Kelamin : Laki-laki.\n",
      "Alamat : Kp.Pasir Sireum Rt/03 Rw/01, Karang Tengah, Cibadak , Sukabumi\n",
      "No Telepon : 0859159936129\n",
      "Email : rvlhaykal@gmail.com\n",
      "Status : Belum Menikah\n"
     ]
    }
   ],
   "source": [
    "namaL = input(\"Isikan Nama Lengkap :\")\n",
    "TTL = input(\"Isikan Tempat Tanggal Lahir :\")\n",
    "jk = input(\"Isikan Jenis Kelamin :\")\n",
    "alamat = input(\"Isikan Alamat :\")\n",
    "notel = input(\"Isikan No Telepon :\")\n",
    "email = input(\"Isikan Email :\")\n",
    "status = input(\"Isikan Status :\")\n",
    "\n",
    "print(\"\\n --- Biodata Diri ---\")\n",
    "print(\"Nama Lengkap : {}\".format(namaL))\n",
    "print(\"Tempat Tanggal Lahir : {}\".format(TTL))\n",
    "print(\"Jenis Kelamin : {}.\".format(jk))\n",
    "print(\"Alamat : {}\".format(alamat))\n",
    "print(\"No Telepon : {}\".format(notel))\n",
    "print(\"Email : {}\".format(email))\n",
    "print(\"Status : {}\".format(status))"
   ]
  },
  {
   "cell_type": "markdown",
   "id": "2e9ae693-5333-4f45-892b-b264ed5a24e4",
   "metadata": {},
   "source": [
    "<h1>Jika terdapat kalimat UNIVERSITAS NUSA PUTRA SUKABUMI ,buatlah kode program untuk menampilkan output: a. putra nusa b. NIVERSITAS NSA PTRA SKABMI c. SUKABUMI PUTRA NUSA UNIVERSITAS d. UNPS e. TAS SAPU BUMI</h1>"
   ]
  },
  {
   "cell_type": "code",
   "execution_count": 4,
   "id": "2e5b6b38-066e-4a13-84ad-ab392b657043",
   "metadata": {},
   "outputs": [
    {
     "name": "stdin",
     "output_type": "stream",
     "text": [
      "Masukan kalimat : UNIVERSITAS NUSA PUTRA SUKABUMI\n"
     ]
    },
    {
     "name": "stdout",
     "output_type": "stream",
     "text": [
      "\n",
      " a.PUTRA NUSA\n",
      "\n",
      " b.NIVERSITAS NSA PTRA SKABMI\n",
      "\n",
      " c.SUKABUMI PUTRA NUSA UNIVERSITAS\n",
      "\n",
      " d.UNPS\n",
      "\n",
      " e.TAS SAPU BUMI\n"
     ]
    }
   ],
   "source": [
    "kalimat = input(\"Masukan kalimat :\")\n",
    "#a. putra nusa\n",
    "print(\"\\n a.\", end = '')\n",
    "print(kalimat [17:22], end = ' ')#PUTRA\n",
    "print(kalimat [12:16])#NUSA\n",
    "#b. NIVERSITAS NSA PTRA SKABMI\n",
    "print(\"\\n b.\", end = '')\n",
    "print(kalimat [1:11], end = ' ')#NIVERSITAS\n",
    "print(kalimat [12], end = '')#N\n",
    "print(kalimat [14:16], end = ' ')#SA\n",
    "print(kalimat [17], end = '')#P\n",
    "print(kalimat [19:-9], end = ' ')#TRA\n",
    "print(kalimat [23], end = '')#S\n",
    "print(kalimat [25:28], end = '')#KAB\n",
    "print(kalimat [29:])#MI\n",
    "#c. SUKABUMI PUTRA NUSA UNIVERSITAS\n",
    "print(\"\\n c.\", end = '')\n",
    "print(kalimat [23:], end = ' ')#SUKABUMI\n",
    "print(kalimat [17:22], end = ' ')#PUTRA\n",
    "print(kalimat [12:16], end = ' ')#NUSA\n",
    "print(kalimat [0:11])#UNIVERSITAS\n",
    "#d. UNPS\n",
    "print(\"\\n d.\", end = '')\n",
    "print(kalimat [0], end = '')#U\n",
    "print(kalimat [12], end = '')#N\n",
    "print(kalimat [17], end = '')#P\n",
    "print(kalimat [23])#S\n",
    "print(\"\\n e.\", end = '')\n",
    "print(kalimat [8:11], end = ' ')#TAS\n",
    "print(kalimat [14:16], end = '')#SA\n",
    "print(kalimat [17:19], end = ' ')#PU\n",
    "print(kalimat [27:])#BUMI"
   ]
  }
 ],
 "metadata": {
  "kernelspec": {
   "display_name": "Python 3 (ipykernel)",
   "language": "python",
   "name": "python3"
  },
  "language_info": {
   "codemirror_mode": {
    "name": "ipython",
    "version": 3
   },
   "file_extension": ".py",
   "mimetype": "text/x-python",
   "name": "python",
   "nbconvert_exporter": "python",
   "pygments_lexer": "ipython3",
   "version": "3.12.7"
  }
 },
 "nbformat": 4,
 "nbformat_minor": 5
}
